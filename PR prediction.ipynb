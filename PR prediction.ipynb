{
 "cells": [
  {
   "cell_type": "code",
   "execution_count": 236,
   "metadata": {
    "collapsed": true
   },
   "outputs": [],
   "source": [
    "import pandas as pd\n",
    "import numpy as np\n",
    "import re\n",
    "%matplotlib inline"
   ]
  },
  {
   "cell_type": "code",
   "execution_count": 237,
   "metadata": {
    "collapsed": false
   },
   "outputs": [],
   "source": [
    "from sklearn import tree\n",
    "from sklearn.model_selection import train_test_split\n",
    "from sklearn.metrics import accuracy_score, confusion_matrix\n",
    "from sklearn import preprocessing"
   ]
  },
  {
   "cell_type": "code",
   "execution_count": 238,
   "metadata": {
    "collapsed": false,
    "scrolled": false
   },
   "outputs": [],
   "source": [
    "col_names = ['S/N', 'ID', 'Gender', 'Age', 'Apply_date', 'Sup_date', 'Doc_type', 'Times', 'Pass', \n",
    "                 'Num_of_people', 'Relationship', 'Degree', 'Num_of_years', 'Job', 'Base_salary', \n",
    "                 'Gross_salary', 'Outcome', 'Date', 'Remark', 'Comments']\n",
    "\n",
    "def load_sheet(year, col_names):\n",
    "    df = pd.read_excel(\"spr.xls\", skiprows=1, sheetname=str(year), names=col_names)\n",
    "    df = df.dropna(thresh=10)\n",
    "    return df\n",
    "\n",
    "# load_sheet(2015, col_names)"
   ]
  },
  {
   "cell_type": "code",
   "execution_count": 239,
   "metadata": {
    "collapsed": false
   },
   "outputs": [],
   "source": [
    "data = []\n",
    "for year in range(2012, 2017):\n",
    "    df = load_sheet(year, col_names)    \n",
    "    data.append(df)"
   ]
  },
  {
   "cell_type": "code",
   "execution_count": 240,
   "metadata": {
    "collapsed": false
   },
   "outputs": [
    {
     "data": {
      "text/plain": [
       "(992, 21)"
      ]
     },
     "execution_count": 240,
     "metadata": {},
     "output_type": "execute_result"
    }
   ],
   "source": [
    "df = pd.concat(data, axis=0)\n",
    "df = df.reset_index()\n",
    "df.shape"
   ]
  },
  {
   "cell_type": "code",
   "execution_count": 241,
   "metadata": {
    "collapsed": false
   },
   "outputs": [
    {
     "data": {
      "text/html": [
       "<div>\n",
       "<table border=\"1\" class=\"dataframe\">\n",
       "  <thead>\n",
       "    <tr style=\"text-align: right;\">\n",
       "      <th></th>\n",
       "      <th>index</th>\n",
       "      <th>S/N</th>\n",
       "      <th>ID</th>\n",
       "      <th>Gender</th>\n",
       "      <th>Age</th>\n",
       "      <th>Apply_date</th>\n",
       "      <th>Sup_date</th>\n",
       "      <th>Doc_type</th>\n",
       "      <th>Times</th>\n",
       "      <th>Pass</th>\n",
       "      <th>...</th>\n",
       "      <th>Relationship</th>\n",
       "      <th>Degree</th>\n",
       "      <th>Num_of_years</th>\n",
       "      <th>Job</th>\n",
       "      <th>Base_salary</th>\n",
       "      <th>Gross_salary</th>\n",
       "      <th>Outcome</th>\n",
       "      <th>Date</th>\n",
       "      <th>Remark</th>\n",
       "      <th>Comments</th>\n",
       "    </tr>\n",
       "  </thead>\n",
       "  <tbody>\n",
       "    <tr>\n",
       "      <th>0</th>\n",
       "      <td>1</td>\n",
       "      <td>1</td>\n",
       "      <td>Lucky</td>\n",
       "      <td>F</td>\n",
       "      <td>23</td>\n",
       "      <td>2012-10-01 00:00:00</td>\n",
       "      <td>2012-12-07 00:00:00</td>\n",
       "      <td>????</td>\n",
       "      <td>1st Time</td>\n",
       "      <td>EP</td>\n",
       "      <td>...</td>\n",
       "      <td>Independent</td>\n",
       "      <td>Poly</td>\n",
       "      <td>4Y</td>\n",
       "      <td>Assistant Manager</td>\n",
       "      <td>2200</td>\n",
       "      <td>3000</td>\n",
       "      <td>Approved</td>\n",
       "      <td>2013-02-27 00:00:00</td>\n",
       "      <td>??27???,28????,3?1????,??????</td>\n",
       "      <td>NaN</td>\n",
       "    </tr>\n",
       "    <tr>\n",
       "      <th>1</th>\n",
       "      <td>2</td>\n",
       "      <td>2</td>\n",
       "      <td>Emma</td>\n",
       "      <td>F</td>\n",
       "      <td>27</td>\n",
       "      <td>2012-10-01 00:00:00</td>\n",
       "      <td>2012-11-09 00:00:00</td>\n",
       "      <td>????</td>\n",
       "      <td>1st Time</td>\n",
       "      <td>SP</td>\n",
       "      <td>...</td>\n",
       "      <td>Independent</td>\n",
       "      <td>Bachelor</td>\n",
       "      <td>6Y+</td>\n",
       "      <td>Customer Service</td>\n",
       "      <td>2710</td>\n",
       "      <td>2710</td>\n",
       "      <td>Approved</td>\n",
       "      <td>2013-04-05 00:00:00</td>\n",
       "      <td>11?9? ????? ?4?5???? 4?9????:)</td>\n",
       "      <td>NaN</td>\n",
       "    </tr>\n",
       "    <tr>\n",
       "      <th>2</th>\n",
       "      <td>3</td>\n",
       "      <td>3</td>\n",
       "      <td>??</td>\n",
       "      <td>F</td>\n",
       "      <td>23</td>\n",
       "      <td>2013-10-02 00:00:00</td>\n",
       "      <td>N.A.</td>\n",
       "      <td>NaN</td>\n",
       "      <td>1st Time</td>\n",
       "      <td>SP</td>\n",
       "      <td>...</td>\n",
       "      <td>Independent</td>\n",
       "      <td>Poly</td>\n",
       "      <td>4Y</td>\n",
       "      <td>CC</td>\n",
       "      <td>2000</td>\n",
       "      <td>2000</td>\n",
       "      <td>Approved</td>\n",
       "      <td>2013-05-27 00:00:00</td>\n",
       "      <td>NaN</td>\n",
       "      <td>NaN</td>\n",
       "    </tr>\n",
       "    <tr>\n",
       "      <th>3</th>\n",
       "      <td>4</td>\n",
       "      <td>4</td>\n",
       "      <td>Monica</td>\n",
       "      <td>F</td>\n",
       "      <td>24</td>\n",
       "      <td>2012-10-04 00:00:00</td>\n",
       "      <td>N.A.</td>\n",
       "      <td>NaN</td>\n",
       "      <td>1st Time</td>\n",
       "      <td>SP</td>\n",
       "      <td>...</td>\n",
       "      <td>Independent</td>\n",
       "      <td>Poly</td>\n",
       "      <td>6Y</td>\n",
       "      <td>Sales Engineer</td>\n",
       "      <td>2000</td>\n",
       "      <td>2000</td>\n",
       "      <td>Approved</td>\n",
       "      <td>2013-04-16 00:00:00</td>\n",
       "      <td>NaN</td>\n",
       "      <td>NaN</td>\n",
       "    </tr>\n",
       "    <tr>\n",
       "      <th>4</th>\n",
       "      <td>5</td>\n",
       "      <td>5</td>\n",
       "      <td>Mina</td>\n",
       "      <td>F</td>\n",
       "      <td>27</td>\n",
       "      <td>2012-10-05 00:00:00</td>\n",
       "      <td>2012-11-25 00:00:00</td>\n",
       "      <td>Parents CV</td>\n",
       "      <td>2nd Time</td>\n",
       "      <td>EP</td>\n",
       "      <td>...</td>\n",
       "      <td>Independent</td>\n",
       "      <td>Master</td>\n",
       "      <td>4Y</td>\n",
       "      <td>NaN</td>\n",
       "      <td>3000</td>\n",
       "      <td>3000</td>\n",
       "      <td>Approved</td>\n",
       "      <td>2013-03-25 00:00:00</td>\n",
       "      <td>NaN</td>\n",
       "      <td>NaN</td>\n",
       "    </tr>\n",
       "  </tbody>\n",
       "</table>\n",
       "<p>5 rows × 21 columns</p>\n",
       "</div>"
      ],
      "text/plain": [
       "   index S/N      ID Gender Age           Apply_date             Sup_date  \\\n",
       "0      1   1   Lucky      F  23  2012-10-01 00:00:00  2012-12-07 00:00:00   \n",
       "1      2   2    Emma      F  27  2012-10-01 00:00:00  2012-11-09 00:00:00   \n",
       "2      3   3      ??      F  23  2013-10-02 00:00:00                 N.A.   \n",
       "3      4   4  Monica      F  24  2012-10-04 00:00:00                 N.A.   \n",
       "4      5   5    Mina      F  27  2012-10-05 00:00:00  2012-11-25 00:00:00   \n",
       "\n",
       "     Doc_type     Times Pass   ...     Relationship    Degree Num_of_years  \\\n",
       "0        ????  1st Time   EP   ...      Independent      Poly           4Y   \n",
       "1        ????  1st Time   SP   ...      Independent  Bachelor          6Y+   \n",
       "2         NaN  1st Time   SP   ...      Independent      Poly           4Y   \n",
       "3         NaN  1st Time   SP   ...      Independent      Poly           6Y   \n",
       "4  Parents CV  2nd Time   EP   ...      Independent    Master           4Y   \n",
       "\n",
       "                 Job Base_salary Gross_salary   Outcome                 Date  \\\n",
       "0  Assistant Manager        2200         3000  Approved  2013-02-27 00:00:00   \n",
       "1   Customer Service        2710         2710  Approved  2013-04-05 00:00:00   \n",
       "2                 CC        2000         2000  Approved  2013-05-27 00:00:00   \n",
       "3     Sales Engineer        2000         2000  Approved  2013-04-16 00:00:00   \n",
       "4                NaN        3000         3000  Approved  2013-03-25 00:00:00   \n",
       "\n",
       "                           Remark Comments  \n",
       "0   ??27???,28????,3?1????,??????      NaN  \n",
       "1  11?9? ????? ?4?5???? 4?9????:)      NaN  \n",
       "2                             NaN      NaN  \n",
       "3                             NaN      NaN  \n",
       "4                             NaN      NaN  \n",
       "\n",
       "[5 rows x 21 columns]"
      ]
     },
     "execution_count": 241,
     "metadata": {},
     "output_type": "execute_result"
    }
   ],
   "source": [
    "df.head()"
   ]
  },
  {
   "cell_type": "code",
   "execution_count": 242,
   "metadata": {
    "collapsed": true
   },
   "outputs": [],
   "source": [
    "original_df = df.copy()"
   ]
  },
  {
   "cell_type": "code",
   "execution_count": 243,
   "metadata": {
    "collapsed": false
   },
   "outputs": [
    {
     "data": {
      "text/plain": [
       "(488, 21)"
      ]
     },
     "execution_count": 243,
     "metadata": {},
     "output_type": "execute_result"
    }
   ],
   "source": [
    "#only look at independent applications\n",
    "df = original_df[original_df.Relationship.str.contains('\\w*[Ii]nde|Indiv', regex=True) == True]\n",
    "df.shape"
   ]
  },
  {
   "cell_type": "code",
   "execution_count": 244,
   "metadata": {
    "collapsed": false
   },
   "outputs": [],
   "source": [
    "# df = df.dropna(subset=['Gender', 'Age', 'Pass', 'Base_salary', \n",
    "#                  'Gross_salary'])\n",
    "# df.shape                "
   ]
  },
  {
   "cell_type": "code",
   "execution_count": 245,
   "metadata": {
    "collapsed": false
   },
   "outputs": [],
   "source": [
    "def get_year(s):\n",
    "    s = s.strip()\n",
    "    year_match = re.match('(?P<year>\\d+\\.?\\d*)[Yy\\W+]', s)\n",
    "    if year_match is not None:\n",
    "        return int(round(float(year_match.group('year'))))\n",
    "    else:\n",
    "        return 1"
   ]
  },
  {
   "cell_type": "code",
   "execution_count": 246,
   "metadata": {
    "collapsed": false
   },
   "outputs": [
    {
     "name": "stderr",
     "output_type": "stream",
     "text": [
      "/home/wx/anaconda2/lib/python2.7/site-packages/ipykernel/__main__.py:1: SettingWithCopyWarning: \n",
      "A value is trying to be set on a copy of a slice from a DataFrame.\n",
      "Try using .loc[row_indexer,col_indexer] = value instead\n",
      "\n",
      "See the caveats in the documentation: http://pandas.pydata.org/pandas-docs/stable/indexing.html#indexing-view-versus-copy\n",
      "  if __name__ == '__main__':\n"
     ]
    },
    {
     "data": {
      "text/plain": [
       "array([ 4,  6, 10,  3,  2,  1,  9,  5,  7,  8, 11, 16, 14, 12])"
      ]
     },
     "execution_count": 246,
     "metadata": {},
     "output_type": "execute_result"
    }
   ],
   "source": [
    "df['Num_of_years'] = df['Num_of_years'].apply(lambda x: get_year(str(x)))\n",
    "df.Num_of_years.unique()"
   ]
  },
  {
   "cell_type": "code",
   "execution_count": 247,
   "metadata": {
    "collapsed": true
   },
   "outputs": [],
   "source": [
    "def convert_times(s):\n",
    "    try:\n",
    "        s = s.strip()\n",
    "        return int(s[0])\n",
    "    except:\n",
    "        return 1"
   ]
  },
  {
   "cell_type": "code",
   "execution_count": 248,
   "metadata": {
    "collapsed": false
   },
   "outputs": [
    {
     "data": {
      "text/plain": [
       "array([1, 2, 4, 3, 5])"
      ]
     },
     "execution_count": 248,
     "metadata": {},
     "output_type": "execute_result"
    }
   ],
   "source": [
    "df.Times = df.Times.apply(lambda x: convert_times(x))\n",
    "df.Times.unique()"
   ]
  },
  {
   "cell_type": "code",
   "execution_count": 249,
   "metadata": {
    "collapsed": false
   },
   "outputs": [],
   "source": [
    "def get_gender(s):\n",
    "    try:\n",
    "        if 'f' in s or 'F' in s:\n",
    "            return 'F'\n",
    "        else:\n",
    "            return 'M'\n",
    "    except:\n",
    "        return np.nan"
   ]
  },
  {
   "cell_type": "code",
   "execution_count": 250,
   "metadata": {
    "collapsed": false
   },
   "outputs": [
    {
     "data": {
      "text/plain": [
       "array(['F', 'M', nan], dtype=object)"
      ]
     },
     "execution_count": 250,
     "metadata": {},
     "output_type": "execute_result"
    }
   ],
   "source": [
    "df.Gender = df.Gender.apply(lambda x: get_gender(x))\n",
    "df.Gender.unique()"
   ]
  },
  {
   "cell_type": "code",
   "execution_count": 251,
   "metadata": {
    "collapsed": false
   },
   "outputs": [],
   "source": [
    "df.Age = df.Age.apply(lambda x: float(x))"
   ]
  },
  {
   "cell_type": "code",
   "execution_count": 252,
   "metadata": {
    "collapsed": true
   },
   "outputs": [],
   "source": [
    "def get_pass(s):\n",
    "    try:\n",
    "        s = s.lower()\n",
    "        if 'e' in s or 'p2' in s:\n",
    "            return 'EP'\n",
    "        if 'sp' in s:\n",
    "            return 'SP'\n",
    "        if 'wp' in s:\n",
    "            return 'WP'\n",
    "        return np.nan\n",
    "    except:\n",
    "        return np.nan"
   ]
  },
  {
   "cell_type": "code",
   "execution_count": 253,
   "metadata": {
    "collapsed": false
   },
   "outputs": [
    {
     "data": {
      "text/plain": [
       "array(['EP', 'SP', nan, 'WP'], dtype=object)"
      ]
     },
     "execution_count": 253,
     "metadata": {},
     "output_type": "execute_result"
    }
   ],
   "source": [
    "df.Pass = df.Pass.apply(lambda x: get_pass(x))\n",
    "df.Pass.unique()"
   ]
  },
  {
   "cell_type": "code",
   "execution_count": 254,
   "metadata": {
    "collapsed": true
   },
   "outputs": [],
   "source": [
    "def get_degree(s):\n",
    "    try:\n",
    "        s = s.lower()\n",
    "        if 'phd' in s:\n",
    "            return 'PhD'\n",
    "        if 'master' in s:\n",
    "            return 'Master'\n",
    "        if 'bachel' in s:\n",
    "            return 'Bachelor'\n",
    "        if 'poly' in s or 'diploma' in s:\n",
    "            return 'Poly'\n",
    "    except AttributeError:\n",
    "        return np.nan"
   ]
  },
  {
   "cell_type": "code",
   "execution_count": 255,
   "metadata": {
    "collapsed": false
   },
   "outputs": [
    {
     "data": {
      "text/plain": [
       "array(['Poly', 'Bachelor', 'Master', nan, None, 'PhD'], dtype=object)"
      ]
     },
     "execution_count": 255,
     "metadata": {},
     "output_type": "execute_result"
    }
   ],
   "source": [
    "df.Degree = df.Degree.apply(lambda x: get_degree(x))\n",
    "df.Degree.unique()"
   ]
  },
  {
   "cell_type": "code",
   "execution_count": 256,
   "metadata": {
    "collapsed": true
   },
   "outputs": [],
   "source": [
    "def get_salary(s):\n",
    "    if s :\n",
    "        return np.nan\n",
    "    try:        \n",
    "        s = s.replace('$', '').replace(',', '').replace('S', '')\n",
    "        return int(s)\n",
    "    except:    \n",
    "        return int(s)"
   ]
  },
  {
   "cell_type": "code",
   "execution_count": 257,
   "metadata": {
    "collapsed": false
   },
   "outputs": [
    {
     "data": {
      "text/plain": [
       "array([2200, 2710, 2000, 3000, 8000, 12000, 2900, 5200, 3700, 4100, 2400,\n",
       "       1900, 6400, 5000, 3500, 1000, 6500, 2150, 2550, 6900, 0, nan, 5500,\n",
       "       3900, 4750, 10000, 2300, 5600, 2800, 7400, 800, 3300, 1500, 4700,\n",
       "       2500, 3400, 3600, 3200, 5100, 4000, 3100, 2600, 3800, 1950, 4680,\n",
       "       6000, 1700, 3250, 4500, 1400, 4600, u'$2000', 1980, 48000, 36000,\n",
       "       2520, 3220, 4300, 4200, 4800, 3540, 3950, 2100, 5250, 7500, 5800,\n",
       "       8700, 2425, u'N.A.', 8200, 1600, 7600, 1800, 3670, 2031, 2131, 3275,\n",
       "       2950, 3550, 2225, 3235, 6650, 2050, 8500, 9450, 3760, 5704, 1300,\n",
       "       5300, 2350, 5900, 3311, u'$8000\\xa0', 1250, 5700, 3050, 2704, 4400,\n",
       "       6300, 20000, u'-', 2700, 5350, 3850, 3620, 4050, 1750, 6200, 3260,\n",
       "       15000, 6450, 3350, 1650, 3617, u'S$2200', 2250, 7000, 9000, 4900,\n",
       "       2120, 2650, 3566, 3150, 16000, 2750, 6800, 3680, 3450, 2160, 1200,\n",
       "       2850, 2010, 4350, u'$5000+', 7800, 3770, 7860, 7100, 8900, 4150,\n",
       "       9150, 3740, 4850, 2730, 5400, 5960.0, 2230.0, 5050.0, 2320.0,\n",
       "       6240.0, 5940.0, 2720.0, 4685.0, 9300.0, 7200.0, 5150.0, 6890.0,\n",
       "       5045.0, 4650.0, 7956.0, 4365.0, 4395.0, 4636.0], dtype=object)"
      ]
     },
     "execution_count": 257,
     "metadata": {},
     "output_type": "execute_result"
    }
   ],
   "source": [
    "original_df.Base_salary.replace(to_replace='$|,|', value='', regex=True).unique()"
   ]
  },
  {
   "cell_type": "code",
   "execution_count": 258,
   "metadata": {
    "collapsed": false
   },
   "outputs": [],
   "source": [
    "def get_salary(s):\n",
    "    s = str(s).strip().replace(',', '')\n",
    "    number_match = re.search('(?P<salary>\\d+,?\\d+)', s)\n",
    "    if number_match is not None:\n",
    "        return float((number_match.group('salary')))\n",
    "    else:\n",
    "        return np.nan"
   ]
  },
  {
   "cell_type": "code",
   "execution_count": 259,
   "metadata": {
    "collapsed": false
   },
   "outputs": [],
   "source": [
    "df.Base_salary = df.Base_salary.apply(lambda x: get_salary(x))\n",
    "df.Gross_salary = df.Gross_salary.apply(lambda x: get_salary(x))"
   ]
  },
  {
   "cell_type": "code",
   "execution_count": 260,
   "metadata": {
    "collapsed": false
   },
   "outputs": [
    {
     "data": {
      "text/plain": [
       "<matplotlib.axes._subplots.AxesSubplot at 0x7f3ab1cabb50>"
      ]
     },
     "execution_count": 260,
     "metadata": {},
     "output_type": "execute_result"
    },
    {
     "data": {
      "image/png": "[encoded data removed]",
      "text/plain": [
       "<Figure size 432x288 with 1 Axes>"
      ]
     },
     "metadata": {},
     "output_type": "display_data"
    }
   ],
   "source": [
    "df.Base_salary.hist()"
   ]
  },
  {
   "cell_type": "code",
   "execution_count": 261,
   "metadata": {
    "collapsed": false
   },
   "outputs": [
    {
     "data": {
      "text/plain": [
       "<matplotlib.axes._subplots.AxesSubplot at 0x7f3ab0a61a90>"
      ]
     },
     "execution_count": 261,
     "metadata": {},
     "output_type": "execute_result"
    },
    {
     "data": {
      "image/png": "[encoded data removed]",
      "text/plain": [
       "<Figure size 432x288 with 1 Axes>"
      ]
     },
     "metadata": {},
     "output_type": "display_data"
    }
   ],
   "source": [
    "df.plot(x='Age', y='Base_salary', kind='scatter', )"
   ]
  },
  {
   "cell_type": "code",
   "execution_count": 262,
   "metadata": {
    "collapsed": false
   },
   "outputs": [
    {
     "data": {
      "text/plain": [
       "<matplotlib.axes._subplots.AxesSubplot at 0x7f3aaac40690>"
      ]
     },
     "execution_count": 262,
     "metadata": {},
     "output_type": "execute_result"
    },
    {
     "data": {
      "image/png": "[encoded data removed]",
      "text/plain": [
       "<Figure size 432x288 with 1 Axes>"
      ]
     },
     "metadata": {},
     "output_type": "display_data"
    }
   ],
   "source": [
    "df.Age.hist()"
   ]
  },
  {
   "cell_type": "code",
   "execution_count": 263,
   "metadata": {
    "collapsed": false
   },
   "outputs": [
    {
     "data": {
      "text/plain": [
       "array([u'approved', u'rejected', u'pending', u'appeal', nan], dtype=object)"
      ]
     },
     "execution_count": 263,
     "metadata": {},
     "output_type": "execute_result"
    }
   ],
   "source": [
    "df.Outcome = df.Outcome.str.strip().str.lower()\n",
    "df.Outcome.unique()"
   ]
  },
  {
   "cell_type": "code",
   "execution_count": 271,
   "metadata": {
    "collapsed": true
   },
   "outputs": [],
   "source": [
    "features = ['Gender', 'Age', 'Times', 'Pass', 'Degree', 'Num_of_years', 'Base_salary'\n",
    "                 , 'Gross_salary']"
   ]
  },
  {
   "cell_type": "code",
   "execution_count": 266,
   "metadata": {
    "collapsed": false
   },
   "outputs": [
    {
     "data": {
      "text/plain": [
       "(283, 9)"
      ]
     },
     "execution_count": 266,
     "metadata": {},
     "output_type": "execute_result"
    }
   ],
   "source": [
    "df = df[df.Outcome.isin(['approved', 'rejected'])]\n",
    "df = df[features + ['Outcome']]\n",
    "df.shape"
   ]
  },
  {
   "cell_type": "code",
   "execution_count": 268,
   "metadata": {
    "collapsed": true
   },
   "outputs": [],
   "source": [
    "df_encode = df.copy()"
   ]
  },
  {
   "cell_type": "code",
   "execution_count": 269,
   "metadata": {
    "collapsed": false
   },
   "outputs": [],
   "source": [
    "le = preprocessing.LabelEncoder()\n",
    "df_encode.Outcome = le.fit_transform(df.Outcome)"
   ]
  },
  {
   "cell_type": "code",
   "execution_count": 270,
   "metadata": {
    "collapsed": false
   },
   "outputs": [
    {
     "data": {
      "text/html": [
       "<div>\n",
       "<table border=\"1\" class=\"dataframe\">\n",
       "  <thead>\n",
       "    <tr style=\"text-align: right;\">\n",
       "      <th></th>\n",
       "      <th>Gender</th>\n",
       "      <th>Age</th>\n",
       "      <th>Times</th>\n",
       "      <th>Pass</th>\n",
       "      <th>Degree</th>\n",
       "      <th>Num_of_years</th>\n",
       "      <th>Base_salary</th>\n",
       "      <th>Gross_salary</th>\n",
       "      <th>Outcome</th>\n",
       "    </tr>\n",
       "  </thead>\n",
       "  <tbody>\n",
       "    <tr>\n",
       "      <th>0</th>\n",
       "      <td>F</td>\n",
       "      <td>23.0</td>\n",
       "      <td>1</td>\n",
       "      <td>EP</td>\n",
       "      <td>Poly</td>\n",
       "      <td>4</td>\n",
       "      <td>2200.0</td>\n",
       "      <td>3000.0</td>\n",
       "      <td>0</td>\n",
       "    </tr>\n",
       "    <tr>\n",
       "      <th>1</th>\n",
       "      <td>F</td>\n",
       "      <td>27.0</td>\n",
       "      <td>1</td>\n",
       "      <td>SP</td>\n",
       "      <td>Bachelor</td>\n",
       "      <td>6</td>\n",
       "      <td>2710.0</td>\n",
       "      <td>2710.0</td>\n",
       "      <td>0</td>\n",
       "    </tr>\n",
       "    <tr>\n",
       "      <th>2</th>\n",
       "      <td>F</td>\n",
       "      <td>23.0</td>\n",
       "      <td>1</td>\n",
       "      <td>SP</td>\n",
       "      <td>Poly</td>\n",
       "      <td>4</td>\n",
       "      <td>2000.0</td>\n",
       "      <td>2000.0</td>\n",
       "      <td>0</td>\n",
       "    </tr>\n",
       "    <tr>\n",
       "      <th>3</th>\n",
       "      <td>F</td>\n",
       "      <td>24.0</td>\n",
       "      <td>1</td>\n",
       "      <td>SP</td>\n",
       "      <td>Poly</td>\n",
       "      <td>6</td>\n",
       "      <td>2000.0</td>\n",
       "      <td>2000.0</td>\n",
       "      <td>0</td>\n",
       "    </tr>\n",
       "    <tr>\n",
       "      <th>4</th>\n",
       "      <td>F</td>\n",
       "      <td>27.0</td>\n",
       "      <td>2</td>\n",
       "      <td>EP</td>\n",
       "      <td>Master</td>\n",
       "      <td>4</td>\n",
       "      <td>3000.0</td>\n",
       "      <td>3000.0</td>\n",
       "      <td>0</td>\n",
       "    </tr>\n",
       "  </tbody>\n",
       "</table>\n",
       "</div>"
      ],
      "text/plain": [
       "  Gender   Age  Times Pass    Degree  Num_of_years  Base_salary  Gross_salary  \\\n",
       "0      F  23.0      1   EP      Poly             4       2200.0        3000.0   \n",
       "1      F  27.0      1   SP  Bachelor             6       2710.0        2710.0   \n",
       "2      F  23.0      1   SP      Poly             4       2000.0        2000.0   \n",
       "3      F  24.0      1   SP      Poly             6       2000.0        2000.0   \n",
       "4      F  27.0      2   EP    Master             4       3000.0        3000.0   \n",
       "\n",
       "   Outcome  \n",
       "0        0  \n",
       "1        0  \n",
       "2        0  \n",
       "3        0  \n",
       "4        0  "
      ]
     },
     "execution_count": 270,
     "metadata": {},
     "output_type": "execute_result"
    }
   ],
   "source": [
    "df_encode.head()"
   ]
  },
  {
   "cell_type": "code",
   "execution_count": 273,
   "metadata": {
    "collapsed": false
   },
   "outputs": [
    {
     "data": {
      "text/plain": [
       "Index([u'Age', u'Times', u'Num_of_years', u'Base_salary', u'Gross_salary',\n",
       "       u'Outcome', u'Gender_F', u'Gender_M', u'Pass_EP', u'Pass_SP',\n",
       "       u'Degree_Bachelor', u'Degree_Master', u'Degree_PhD', u'Degree_Poly'],\n",
       "      dtype='object')"
      ]
     },
     "execution_count": 273,
     "metadata": {},
     "output_type": "execute_result"
    }
   ],
   "source": [
    "df_encode = pd.get_dummies(df_encode)\n",
    "df_encode.columns"
   ]
  },
  {
   "cell_type": "code",
   "execution_count": 274,
   "metadata": {
    "collapsed": false
   },
   "outputs": [
    {
     "data": {
      "text/plain": [
       "0    179\n",
       "1    104\n",
       "Name: Outcome, dtype: int64"
      ]
     },
     "execution_count": 274,
     "metadata": {},
     "output_type": "execute_result"
    }
   ],
   "source": [
    "df_encode.Outcome.value_counts()\n",
    "# approve - 0\n",
    "# reject - 1"
   ]
  },
  {
   "cell_type": "code",
   "execution_count": 280,
   "metadata": {
    "collapsed": false
   },
   "outputs": [],
   "source": [
    "# fill NA\n",
    "df_encode = df_encode.fillna(df_encode.mean())"
   ]
  },
  {
   "cell_type": "code",
   "execution_count": 281,
   "metadata": {
    "collapsed": false
   },
   "outputs": [
    {
     "data": {
      "text/plain": [
       "((226, 13), (57, 13))"
      ]
     },
     "execution_count": 281,
     "metadata": {},
     "output_type": "execute_result"
    }
   ],
   "source": [
    "train_X, test_X, train_y, test_y = train_test_split(df_encode.drop('Outcome', axis=1), df_encode['Outcome'],\n",
    "                                                    test_size=0.2, stratify=df_encode['Outcome'])\n",
    "train_X.shape, test_X.shape"
   ]
  },
  {
   "cell_type": "code",
   "execution_count": 288,
   "metadata": {
    "collapsed": false
   },
   "outputs": [],
   "source": [
    "clf = tree.DecisionTreeClassifier(max_depth=5, class_weight='balanced')\n",
    "# clf = tree.DecisionTreeClassifier(max_depth=7)\n",
    "\n",
    "clf = clf.fit(train_X, train_y)"
   ]
  },
  {
   "cell_type": "code",
   "execution_count": 289,
   "metadata": {
    "collapsed": false
   },
   "outputs": [
    {
     "name": "stdout",
     "output_type": "stream",
     "text": [
      "0.771929824561\n"
     ]
    },
    {
     "data": {
      "text/plain": [
       "array([[26, 10],\n",
       "       [ 3, 18]])"
      ]
     },
     "execution_count": 289,
     "metadata": {},
     "output_type": "execute_result"
    }
   ],
   "source": [
    "y_pred = clf.predict(test_X)\n",
    "print accuracy_score(test_y, y_pred)\n",
    "confusion_matrix(test_y, y_pred)"
   ]
  },
  {
   "cell_type": "code",
   "execution_count": 290,
   "metadata": {
    "collapsed": false
   },
   "outputs": [
    {
     "data": {
      "text/plain": [
       "<matplotlib.axes._subplots.AxesSubplot at 0x7f3aa9fbe8d0>"
      ]
     },
     "execution_count": 290,
     "metadata": {},
     "output_type": "execute_result"
    },
    {
     "data": {
      "image/png": "[encoded data removed]",
      "text/plain": [
       "<Figure size 432x288 with 1 Axes>"
      ]
     },
     "metadata": {},
     "output_type": "display_data"
    }
   ],
   "source": [
    "feature_importances = pd.Series(clf.feature_importances_, index=train_X.columns)\n",
    "feature_importances.sort_values(ascending=False).plot(kind = \"bar\")\n",
    "\n",
    "# sorted(zip(train_X.columns, clf.feature_importances_), key=lambda x: x[1], reverse=True)"
   ]
  },
  {
   "cell_type": "code",
   "execution_count": 291,
   "metadata": {
    "collapsed": false
   },
   "outputs": [],
   "source": [
    "with open('pr.dot', 'w') as f:\n",
    "    f = tree.export_graphviz(clf, out_file=f, feature_names=train_X.columns,\n",
    "                                class_names=['Approve', 'Reject'], filled=True, rounded=True)"
   ]
  },
  {
   "cell_type": "code",
   "execution_count": 292,
   "metadata": {
    "collapsed": false
   },
   "outputs": [
    {
     "name": "stdout",
     "output_type": "stream",
     "text": [
      "/bin/sh: 1: dot: not found\r\n"
     ]
    }
   ],
   "source": [
    "!dot -Tpdf pr.dot -o pr_new.pdf"
   ]
  },
  {
   "cell_type": "code",
   "execution_count": 293,
   "metadata": {
    "collapsed": true
   },
   "outputs": [],
   "source": [
    "from sklearn.linear_model import LogisticRegression"
   ]
  },
  {
   "cell_type": "code",
   "execution_count": 295,
   "metadata": {
    "collapsed": false
   },
   "outputs": [
    {
     "name": "stdout",
     "output_type": "stream",
     "text": [
      "0.771929824561\n"
     ]
    },
    {
     "data": {
      "text/plain": [
       "array([[28,  8],\n",
       "       [ 5, 16]])"
      ]
     },
     "execution_count": 295,
     "metadata": {},
     "output_type": "execute_result"
    }
   ],
   "source": [
    "lr_model = LogisticRegression()\n",
    "lr_model.fit(train_X, train_y)\n",
    "\n",
    "y_pred = lr_model.predict(test_X)\n",
    "print accuracy_score(test_y, y_pred)\n",
    "confusion_matrix(test_y, y_pred)"
   ]
  },
  {
   "cell_type": "code",
   "execution_count": 296,
   "metadata": {
    "collapsed": false
   },
   "outputs": [
    {
     "data": {
      "text/plain": [
       "array([[  8.15068481e-02,  -5.44163474e-02,  -3.16257165e-01,\n",
       "         -4.48485380e-04,   3.82390930e-04,  -3.23350142e-01,\n",
       "         -2.65061255e-01,  -3.99616523e-01,   3.17546585e-02,\n",
       "          2.93149836e-01,   8.20469196e-01,   3.93937337e-02,\n",
       "         -1.32742200e+00]])"
      ]
     },
     "execution_count": 296,
     "metadata": {},
     "output_type": "execute_result"
    }
   ],
   "source": [
    "lr_model.coef_"
   ]
  },
  {
   "cell_type": "code",
   "execution_count": 297,
   "metadata": {
    "collapsed": false
   },
   "outputs": [
    {
     "data": {
      "text/plain": [
       "array([-0.44903194])"
      ]
     },
     "execution_count": 297,
     "metadata": {},
     "output_type": "execute_result"
    }
   ],
   "source": [
    "lr_model.intercept_"
   ]
  },
  {
   "cell_type": "code",
   "execution_count": null,
   "metadata": {
    "collapsed": true
   },
   "outputs": [],
   "source": []
  }
 ],
 "metadata": {
  "kernelspec": {
   "display_name": "Python 2",
   "language": "python",
   "name": "python2"
  },
  "language_info": {
   "codemirror_mode": {
    "name": "ipython",
    "version": 2
   },
   "file_extension": ".py",
   "mimetype": "text/x-python",
   "name": "python",
   "nbconvert_exporter": "python",
   "pygments_lexer": "ipython2",
   "version": "2.7.15"
  }
 },
 "nbformat": 4,
 "nbformat_minor": 1
}
